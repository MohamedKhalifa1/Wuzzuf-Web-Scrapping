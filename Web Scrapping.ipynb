{
 "cells": [
  {
   "cell_type": "code",
   "execution_count": 290,
   "id": "e933af19",
   "metadata": {},
   "outputs": [],
   "source": [
    "import csv \n",
    "import requests\n",
    "from itertools import zip_longest\n",
    "from bs4 import BeautifulSoup\n"
   ]
  },
  {
   "cell_type": "code",
   "execution_count": 291,
   "id": "9ab87c53",
   "metadata": {},
   "outputs": [
    {
     "name": "stdout",
     "output_type": "stream",
     "text": [
      "Requirement already satisfied: lxml in c:\\users\\lab11\\anaconda3\\lib\\site-packages (4.8.0)\n"
     ]
    },
    {
     "name": "stderr",
     "output_type": "stream",
     "text": [
      "WARNING: Ignoring invalid distribution -pencv-python (c:\\users\\lab11\\anaconda3\\lib\\site-packages)\n",
      "WARNING: Ignoring invalid distribution -pencv-python (c:\\users\\lab11\\anaconda3\\lib\\site-packages)\n"
     ]
    }
   ],
   "source": [
    "!pip install lxml"
   ]
  },
  {
   "cell_type": "code",
   "execution_count": 292,
   "id": "285b276c",
   "metadata": {},
   "outputs": [],
   "source": [
    "result=requests.get(\"https://wuzzuf.net/search/jobs/?a=hpb%7Cspbg&filters%5Bcountry%5D%5B0%5D=Egypt&q=data%20science\")"
   ]
  },
  {
   "cell_type": "code",
   "execution_count": 293,
   "id": "abb531f4",
   "metadata": {},
   "outputs": [],
   "source": [
    "src=result.content"
   ]
  },
  {
   "cell_type": "code",
   "execution_count": 294,
   "id": "3f5a2ae0",
   "metadata": {},
   "outputs": [],
   "source": [
    "soup=BeautifulSoup(src,'lxml')"
   ]
  },
  {
   "cell_type": "code",
   "execution_count": 295,
   "id": "83457bf2",
   "metadata": {},
   "outputs": [],
   "source": [
    "job_titles=soup.find_all(\"h2\",{\"class\":\"css-m604qf\"})\n",
    "comp_names=soup.find_all(\"a\",{\"class\":\"css-17s97q8\"})\n",
    "locations=soup.find_all(\"span\",{\"class\":\"css-5wys0k\"})\n",
    "new_dates=soup.find_all(\"div\",{\"class\":\"css-4c4ojb\"})\n",
    "old_dates=soup.find_all(\"div\",{\"class\":\"css-do6t5g\"})\n",
    "exps=soup.find_all(\"div\",{\"class\":\"css-y4udm8\"})\n",
    "dates=[*new_dates,*old_dates]"
   ]
  },
  {
   "cell_type": "code",
   "execution_count": 296,
   "id": "87d0e851",
   "metadata": {},
   "outputs": [
    {
     "name": "stdout",
     "output_type": "stream",
     "text": [
      "[<div class=\"css-4c4ojb\">2 days<!-- --> ago</div>, <div class=\"css-4c4ojb\">23 hours<!-- --> ago</div>, <div class=\"css-4c4ojb\">2 days<!-- --> ago</div>, <div class=\"css-4c4ojb\">8 days<!-- --> ago</div>, <div class=\"css-do6t5g\">10 days<!-- --> ago</div>, <div class=\"css-do6t5g\">11 days<!-- --> ago</div>, <div class=\"css-do6t5g\">10 days<!-- --> ago</div>, <div class=\"css-do6t5g\">16 days<!-- --> ago</div>, <div class=\"css-do6t5g\">17 days<!-- --> ago</div>, <div class=\"css-do6t5g\">22 days<!-- --> ago</div>, <div class=\"css-do6t5g\">21 days<!-- --> ago</div>, <div class=\"css-do6t5g\">25 days<!-- --> ago</div>, <div class=\"css-do6t5g\">23 days<!-- --> ago</div>, <div class=\"css-do6t5g\">1 month<!-- --> ago</div>, <div class=\"css-do6t5g\">1 month<!-- --> ago</div>]\n"
     ]
    }
   ],
   "source": [
    "print(dates)"
   ]
  },
  {
   "cell_type": "code",
   "execution_count": 297,
   "id": "70f3a74f",
   "metadata": {},
   "outputs": [],
   "source": [
    "job_title=[]\n",
    "comp_name=[]\n",
    "location=[]\n",
    "date=[]\n",
    "exp=[]\n",
    "links=[]\n",
    "for i in range(len(job_titles)):\n",
    "    job_title.append(job_titles[i].text)\n",
    "    links.append(job_titles[i].find(\"a\").attrs['href'])\n",
    "    comp_name.append(comp_names[i].text.replace(\"-\",\"\"))\n",
    "    location.append(locations[i].text)\n",
    "    date.append(dates[i].text)\n",
    "    exp.append(exps[i].text.replace(\"·\",\"| \"))\n",
    "    "
   ]
  },
  {
   "cell_type": "code",
   "execution_count": 298,
   "id": "0091ce46",
   "metadata": {},
   "outputs": [
    {
     "name": "stdout",
     "output_type": "stream",
     "text": [
      "['https://wuzzuf.net/jobs/p/War6yWbG420X-Data-Science-Instructor-EpsilonAI-Cairo-Egypt', 'https://wuzzuf.net/jobs/p/60zYmLJM5ooa-Data-Engineer-lead-BBI-Consultancy-Cairo-Egypt', 'https://wuzzuf.net/jobs/p/AAtc875jdCKu-Data-AnalysisAnalytics-Instructor-Excel---Power-BI-EpsilonAI-Cairo-Egypt', 'https://wuzzuf.net/jobs/p/YKCJek5dpoTx-Data-Engineer-Carina-Wear-Cairo-Egypt', 'https://wuzzuf.net/jobs/p/d4PqXK4m2Rt1-Data-Analyst-ITCan-Cairo-Egypt', 'https://wuzzuf.net/jobs/p/mwEf1DNjXyRD-Data-Analytics-DXC-Cairo-Egypt', 'https://wuzzuf.net/jobs/p/2CWnJIjpSHMK-Data-Analytics-DXC-technology-Cairo-Egypt', 'https://wuzzuf.net/jobs/p/4ei2nPqmOay2-Data-Analyst-Yassir-Cairo-Egypt', 'https://wuzzuf.net/jobs/p/08GB5nYTFrlR-Senior-Data-Engineer-Erada-Cairo-Egypt', 'https://wuzzuf.net/jobs/p/jfoceU3MA4Hg-Senior-Data-Analyst-Sceel-io-Cairo-Egypt', 'https://wuzzuf.net/jobs/p/dWif81jDMIDU-Data-Analytics-Manager-Mashreqbank-PSC-Cairo-Egypt', 'https://wuzzuf.net/jobs/p/Hvr2zEMqwQ0Y-data-analysis-Care-Services-EG-Cairo-Egypt', 'https://wuzzuf.net/jobs/p/9jpJmZEJXg9j-Data-IO-Specialist-Pixelogic-Media-Partners-LLC-Cairo-Egypt', 'https://wuzzuf.net/jobs/p/fEhxIuT0Zwak-Senior-Data-Scientist---Hybrid-Seoudi-Supermarket-Giza-Egypt', 'https://wuzzuf.net/jobs/p/cfxbeiW3DnlW-Senior-Data-Engineer--Remote-GetTechForce-com-Cairo-Egypt']\n"
     ]
    }
   ],
   "source": [
    "# print(job_title)\n",
    "# print(comp_name)\n",
    "# print(location)\n",
    "# print(date)\n",
    "print(links)"
   ]
  },
  {
   "cell_type": "code",
   "execution_count": 300,
   "id": "abc11d17",
   "metadata": {},
   "outputs": [],
   "source": [
    "file_list=[job_title,date,comp_name,location,exp,links]"
   ]
  },
  {
   "cell_type": "code",
   "execution_count": 301,
   "id": "88051521",
   "metadata": {},
   "outputs": [],
   "source": [
    "exported=zip_longest(*file_list)"
   ]
  },
  {
   "cell_type": "code",
   "execution_count": 302,
   "id": "12c334e0",
   "metadata": {},
   "outputs": [
    {
     "name": "stdout",
     "output_type": "stream",
     "text": [
      "<itertools.zip_longest object at 0x000001F244FCE220>\n"
     ]
    }
   ],
   "source": [
    "print(exported)"
   ]
  },
  {
   "cell_type": "code",
   "execution_count": 303,
   "id": "21c00097",
   "metadata": {},
   "outputs": [],
   "source": [
    "with open(\"data/Entry Level data science.csv\",\"w\")as myfile:\n",
    "    wr=csv.writer(myfile)\n",
    "    wr.writerow(['Job Title','Date','Company Name','Location','Experience','Job link'])\n",
    "    wr.writerows(exported)"
   ]
  },
  {
   "cell_type": "code",
   "execution_count": null,
   "id": "6684e149",
   "metadata": {},
   "outputs": [],
   "source": []
  }
 ],
 "metadata": {
  "kernelspec": {
   "display_name": "Python 3 (ipykernel)",
   "language": "python",
   "name": "python3"
  },
  "language_info": {
   "codemirror_mode": {
    "name": "ipython",
    "version": 3
   },
   "file_extension": ".py",
   "mimetype": "text/x-python",
   "name": "python",
   "nbconvert_exporter": "python",
   "pygments_lexer": "ipython3",
   "version": "3.9.12"
  }
 },
 "nbformat": 4,
 "nbformat_minor": 5
}
